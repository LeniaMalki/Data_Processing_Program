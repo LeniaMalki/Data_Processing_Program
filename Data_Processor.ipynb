{
 "cells": [
  {
   "cell_type": "markdown",
   "id": "1d71ddd3",
   "metadata": {},
   "source": [
    "### Imports necessary to run program"
   ]
  },
  {
   "cell_type": "code",
   "execution_count": null,
   "id": "dab02ed1",
   "metadata": {
    "scrolled": false
   },
   "outputs": [],
   "source": [
    "import datetime\n",
    "from datetime import timedelta\n",
    "import os\n",
    "import pandas as pd\n",
    "\n",
    "openTime = datetime.datetime.strptime('9:30:0','%H:%M:%S').time()\n",
    "closeTime = datetime.datetime.strptime('16:0:0','%H:%M:%S').time()"
   ]
  },
  {
   "cell_type": "markdown",
   "id": "86578599",
   "metadata": {},
   "source": [
    "### Converts txt-files to csv-files and filters out data.\n",
    "Note: The directory and output_path must exist in /Data_handler_tradingbot"
   ]
  },
  {
   "cell_type": "code",
   "execution_count": null,
   "id": "388dfcff",
   "metadata": {
    "scrolled": true
   },
   "outputs": [],
   "source": [
    "def processData(directory):\n",
    "    print('Processing ' + str(directory)+'...')\n",
    "    for file in os.listdir(directory): \n",
    "        filename = os.fsdecode(file)\n",
    "        print(str(filename) + str('...'))\n",
    "        file_path = os.path.join(directory, filename)\n",
    "        \n",
    "        m = filename.split('_')[0]\n",
    "        out = '{}.csv'.format(m) \n",
    "\n",
    "        df =  pd.read_csv(file_path, sep=',', header=None,low_memory=False)\n",
    "        df.columns = [\"DateTime\", \"Open\", \"High\", \"Low\",\"Close\", \"Volume\"]\n",
    "        df[\"DateTime\"] = pd.to_datetime(df[\"DateTime\"])\n",
    "\n",
    "        indecis = []\n",
    "        for i in range(len(df.index)):\n",
    "            given_time = df['DateTime'][i].time()\n",
    "\n",
    "            if not (openTime <= given_time <= closeTime):\n",
    "                indecis.append(i)\n",
    "\n",
    "        df.drop(indecis, axis=0, inplace=True)\n",
    "        print('....... dropped ' +  str(len(indecis)) + ' rows')\n",
    "\n",
    "        output_path = 'filtered_csv_data\\{}'.format(out) \n",
    "        df.to_csv(output_path, index=False)\n",
    "        print('....... created CSV file')\n",
    "    print('DONE PROCESSING DIRECTORY')"
   ]
  },
  {
   "cell_type": "code",
   "execution_count": null,
   "id": "c665dd4b",
   "metadata": {},
   "outputs": [],
   "source": [
    "processData('input_dir')\n",
    "#processData('DIRECTORY_NAME_IN_STRING')\n",
    "#processData('DIRECTORY_NAME_IN_STRING')"
   ]
  },
  {
   "cell_type": "markdown",
   "id": "f8ea8780",
   "metadata": {},
   "source": [
    "### Data processor for single files\n",
    "Note: the file must be directly accesible from /Data_handler_tradingbot and not in a subdirectory"
   ]
  },
  {
   "cell_type": "code",
   "execution_count": null,
   "id": "16eee0d0",
   "metadata": {
    "scrolled": false
   },
   "outputs": [],
   "source": [
    "file = 'FILE_NAME_IN_STRING' # Name of txt file\n",
    "dat =  pd.read_csv(file, sep=',', header=None,low_memory=False) # dataframe creator \n",
    "dat.columns = [\"DateTime\", \"Open\", \"High\", \"Low\",\"Close\", \"Volume\"] # adding column names \n",
    "dat[\"DateTime\"] = pd.to_datetime(dat[\"DateTime\"]) # assigning type to \"DateTime\"-column"
   ]
  },
  {
   "cell_type": "code",
   "execution_count": null,
   "id": "945637c7",
   "metadata": {
    "scrolled": true
   },
   "outputs": [],
   "source": [
    "indecis = [] # List of indecis to be removed \n",
    "\n",
    "for i in range(len(dat.index)): # Iterate thourgh the file\n",
    "    given_time = dat['DateTime'][i].time() # Get the time of index i \n",
    "    \n",
    "    if not (openTime <= given_time <= closeTime): # if the time is not within the market... \n",
    "        indecis.append(i) # save its index \n",
    "print('Done')"
   ]
  },
  {
   "cell_type": "code",
   "execution_count": null,
   "id": "5f3cc09c",
   "metadata": {
    "scrolled": true
   },
   "outputs": [],
   "source": [
    "dat.drop(indecis, axis=0, inplace=True) # drop/remove all rows correcponding to indecis of the list of indecis\n",
    "print('Dropped: ' +  str(len(indecis)) + ' rows')\n",
    "\n",
    "output_path = 'temporary_output\\{}.csv'.format('OUTPUT_NAME_IN_STRING') # specify the output-path \n",
    "dat.to_csv(output_path, index=False) # convert tha dataframe to csv and save it to the specified output-path"
   ]
  },
  {
   "cell_type": "markdown",
   "id": "98aab65f",
   "metadata": {},
   "source": [
    "### Name handeling if file names need to be changed"
   ]
  },
  {
   "cell_type": "code",
   "execution_count": null,
   "id": "ac67e62f",
   "metadata": {},
   "outputs": [],
   "source": [
    "directory = 'DIRECTORY_NAME_IN_STRING'\n",
    "for file in os.listdir(directory): \n",
    "    filename = os.fsdecode(file)\n",
    "    \n",
    "    f_name, f_ext = os.path.splitext(file)\n",
    "    new_name = filename.replace(\".txt\",\"\")\n",
    "    \n",
    "    file_path = os.path.join(directory, filename)\n",
    "    new_file = os.path.join(directory, new_name)\n",
    "        \n",
    "    os.rename(file_path, new_file)"
   ]
  }
 ],
 "metadata": {
  "kernelspec": {
   "display_name": "Python 3 (ipykernel)",
   "language": "python",
   "name": "python3"
  },
  "language_info": {
   "codemirror_mode": {
    "name": "ipython",
    "version": 3
   },
   "file_extension": ".py",
   "mimetype": "text/x-python",
   "name": "python",
   "nbconvert_exporter": "python",
   "pygments_lexer": "ipython3",
   "version": "3.9.7"
  }
 },
 "nbformat": 4,
 "nbformat_minor": 5
}
